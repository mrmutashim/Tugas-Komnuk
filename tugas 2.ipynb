{
 "cells": [
  {
   "cell_type": "markdown",
   "metadata": {},
   "source": [
    "### Soal 2\n",
    "\n",
    "Radionuklida $^{135}$Xe dihasilkan di dalam reaktor nuklir melalui dua mekanisme :\n",
    "- Produksi $^{135}$Te dari reaksi fisi yang kemudian  menjadi $^{135}$I melalui peluruhan $\\beta$ dengan waktu paro 19 detik, dan selanjutnya meluruh menjadi $^{135}$Xe melalui perluruhan $\\beta$ dengan waktu paro 6,6 jam.\n",
    "- Produksi $^{135}$Xe langsung dari reaksi fisi.\n",
    "\n",
    "Nuklida $^{135}$Xe ini penting karena ia mempunyai tampang lintang tangkapan yang sangat besar yaitu $2,6\\times 10^6$ barn. $^{135}$Xe juga bersifat radioaktif dan meluruh dengan waktu paro sebesar 9,1 jam.\n",
    "\n",
    "Untuk reaktor dengan fluks skalar rerata $\\phi$ dalam satuan neutron/cm$^2$/s, persamaan yang menyatakan produksi dari $^{135}$Xe adalah\n",
    "\n",
    "$$\n",
    "\\begin{align}\n",
    "\\frac{d}{dt} T &= \\gamma_T \\Sigma_f \\phi - \\lambda_T T \\\\\n",
    "\\frac{d}{dt} I &= \\lambda_T T - \\lambda_I I \\\\\n",
    "\\dfrac{d}{dt} X &= \\lambda_I I + \\gamma_X \\Sigma_f \\phi - \\left(\\lambda_X + \\sigma_a^X \\phi \\right)X\n",
    "\\end{align}\n",
    "$$\n",
    "\n",
    "dengan $T$, $I$ dan $X$ melambangkan densitas nuklida (dalam satuan nuklei/cm$^3$) masing-masing untuk $^{135}$Te, $^{135}$I dan $^{135}$Xe. $\\lambda_T$, $\\lambda_I$ dan $\\lambda_X$ merupakan konstanta peluruhan untuk $^{135}$Te, $^{135}$I dan $^{135}$Xe.\n",
    "\n",
    "Jika kita mempertimbangkan kondisi ajeg (*steady state*), maka $\\frac{d}{dt} = 0$, dan kita akan menjumpai persamaan untuk **konsentrasi setimbang** ketiga nuklida tersebut. Kondisi ini dijumpai ketika reaktor nuklir telah dioperasikan cukup lama. Untuk reaktor berbahan bakar $^{235}$U, *fission yield* untuk Te dan Xe adalah $\\gamma_T = 0,061$ dan $\\gamma_X = 0,003$ dan tampang lintang makroskopik fisi sebesar $\\Sigma_f = 0,07136$ cm$^{-1}$.\n",
    "\n",
    "Setelah reaktor beroperasi cukup lama, reaktor tersebut kemudian dipadamkan (*shutdown*). Konsentrasi $^{135}$Xe akan berubah terhadap waktu dan dapat dinyatakan sebagai berikut\n",
    "\n",
    "$$ X(t) = X_\\infty e^{-\\lambda_X t} + \\dfrac{\\lambda_I}{\\lambda_I - \\lambda_X} I_\\infty \\left( e^{-\\lambda_X t} - e^{-\\lambda_I t} \\right) $$\n",
    "\n",
    "dengan $t$ adalah waktu semenjak *shutdown*.\n",
    "\n",
    "Konsentrasi $^{135}$Xe  akan meningkat setelah reaktor dipadamkan, namun akan mencapai nilai maksimum pada waktu tertentu dan kemudian konsentrasinya akan berkurang.\n",
    "\n",
    "***Hitunglah*** :\n",
    "- **konsentrasi setimbang** ketiga nuklida tersebut ($T_\\infty, I_\\infty, X_\\infty$) pada densitas daya reaktor sebesar 5, 50 dan 100 W/cm$^3$, dengan besarnya energi yang dibangkitkan sebesar 200 MeV/fisi.\n",
    "- **laju serapan neutron** pada nuklida $^{135}$Xe yang dinyatakan oleh $\\sigma_a^X \\phi X$.\n",
    "- **waktu** yang diperlukan setelah reaktor dipadamkan untuk mencapai konsentrasi $^{135}$Xe  yang maksimum dan juga besarnya **konsentrasi** $^{135}$Xe pada waktu tersebut untuk densitas daya reaktor sebesar 5, 50 dan 100 W/cm$^3$."
   ]
  },
  {
   "cell_type": "markdown",
   "metadata": {},
   "source": [
    "Pada kondisi setimbang, $\\frac{d}{dt} = 0$ sehingga persamaan yang menyatakan produksi $^{135}$ Xe dapat dituliskan ke dalam matriks sebagai berikut.\n",
    "\n",
    "$$\\begin{pmatrix}\n",
    "    \\lambda_T & 0 & 0 \\\\\n",
    "    -\\lambda_T & \\lambda_I & 0 \\\\\n",
    "    0 & -\\lambda_I & \\lambda_X + \\sigma_a^X \\phi \\\\\n",
    "\\end{pmatrix}\n",
    "\\begin{pmatrix}\n",
    "    T \\\\\n",
    "    I \\\\\n",
    "    X \\\\\n",
    "\\end{pmatrix} =\n",
    "\\begin{pmatrix}\n",
    "    \\gamma_T \\Sigma_f \\phi \\\\\n",
    "    0 \\\\\n",
    "    \\gamma_X \\Sigma_f \\phi \\\\\n",
    "\\end{pmatrix}$$\n"
   ]
  },
  {
   "cell_type": "markdown",
   "metadata": {},
   "source": [
    "Untuk itu perlu dicari tahu nilai fluks ($\\phi$) yang diperoleh dari nilai densitas daya ($P$), tampang lintang makroskopik fisi ($\\Sigma_f$), dan energi per fisi ($E$)\n",
    "$$\n",
    "\\phi = \\frac{P}{\\Sigma_f E}\n",
    "$$\n",
    "\n",
    "Kemudian matriks di atas diselesaikan dengan metode Gauss-Seidel\n",
    "\n",
    "Setelah diperoleh konsentrasi setiap nuklida, maka dapat dihitung laju serapan neutron pada nuklida $^{135}Xe$  dengan menggunakan persamaan:\n",
    "$$\n",
    "{Laju Serapan Neutron} =\\sigma_a ^X \\phi X\n",
    "$$"
   ]
  },
  {
   "cell_type": "code",
   "execution_count": 1,
   "metadata": {},
   "outputs": [],
   "source": [
    "def Gauss_Seidel_Solve(A,b):\n",
    "    N = 3\n",
    "    x = np.zeros(N)\n",
    "    for i in range(N):\n",
    "        s = 0\n",
    "        for j in range(N):\n",
    "            if (i != j):\n",
    "                s += A[i,j]*x[j]\n",
    "        x[i] = (b[i] - s)/A[i,i]\n",
    "    return x"
   ]
  },
  {
   "cell_type": "code",
   "execution_count": 2,
   "metadata": {},
   "outputs": [
    {
     "name": "stdout",
     "output_type": "stream",
     "text": [
      "Untuk densitas daya =  5 W/cm^3:\n",
      "Nilai phi = 2.1866E+12\n",
      "Telluriun-135 = 2.6091E+11 nuklida/cm3\n",
      "Iodin-135     = 3.2627E+14 nuklida/cm3\n",
      "Xenon-135     = 3.7202E+14 nuklida/cm3\n",
      "Laju Serapan Neutron = 2.1151E+09 \n",
      "\n",
      "Untuk densitas daya =  50 W/cm^3:\n",
      "Nilai phi = 2.1866E+13\n",
      "Telluriun-135 = 2.6091E+12 nuklida/cm3\n",
      "Iodin-135     = 3.2627E+15 nuklida/cm3\n",
      "Xenon-135     = 1.2801E+15 nuklida/cm3\n",
      "Laju Serapan Neutron = 7.2779E+10 \n",
      "\n",
      "Untuk densitas daya =  100 W/cm^3:\n",
      "Nilai phi = 4.3733E+13\n",
      "Telluriun-135 = 5.2182E+12 nuklida/cm3\n",
      "Iodin-135     = 6.5255E+15 nuklida/cm3\n",
      "Xenon-135     = 1.4810E+15 nuklida/cm3\n",
      "Laju Serapan Neutron = 1.6839E+11 \n",
      "\n"
     ]
    }
   ],
   "source": [
    "import numpy as np\n",
    "lamb_T = np.log(2)/19\n",
    "lamb_I = np.log(2)/(6.6*3600)\n",
    "lamb_X = np.log(2)/(9.1*3600)\n",
    "rho = [5,50,100]\n",
    "E = 200 * 1.60217E-13\n",
    "sig_f = 0.07136\n",
    "sig_a = 2.6E-18\n",
    "gam_T = 0.061\n",
    "gam_X = 0.003\n",
    "for p in rho:\n",
    "    print('Untuk densitas daya = ',p,'W/cm^3:')\n",
    "    phi = p/(sig_f*E)\n",
    "    print('Nilai phi = %.4E'%phi)\n",
    "    A = np.array([(lamb_T,0,0),(-lamb_T,lamb_I,0),(0,-lamb_I,(lamb_X+(sig_a*phi)))])\n",
    "    b = np.array([(gam_T*sig_f*phi),0,(gam_X*sig_f*phi)])\n",
    "    x = Gauss_Seidel_Solve(A,b)\n",
    "    LSN = sig_a*phi*x[2]\n",
    "    print('Telluriun-135 = %.4E'%x[0],'nuklida/cm3')\n",
    "    print('Iodin-135     = %.4E'%x[1],'nuklida/cm3')\n",
    "    print('Xenon-135     = %.4E'%x[2],'nuklida/cm3')\n",
    "    print('Laju Serapan Neutron = %.4E'%LSN,'\\n')"
   ]
  },
  {
   "cell_type": "markdown",
   "metadata": {},
   "source": [
    "Setelah reaktor bereaksi cukup lama, reaktor kemudian dipadamkan (*shutdown*). Konsentrasi $^{135}Xe$ akan berubah terhadap waktu dan dapat dinyatakan sebagai berikut.\n",
    "$$ X(t) = X_\\infty e^{-\\lambda_X t} + \\dfrac{\\lambda_I}{\\lambda_I - \\lambda_X} I_\\infty \\left( e^{-\\lambda_X t} - e^{-\\lambda_I t} \\right) $$\n",
    "Dengan asumsi ketika reaktor dipadamkan ketiga nuklida telah mencapai kondisi setimbang, maka waktu yang digunakan untuk mencapai konsentrasi $^{135}Xe$ dan besarnya konsentrasi pada waktu tersebut dapat ditentukan sebagai berikut."
   ]
  },
  {
   "cell_type": "code",
   "execution_count": 3,
   "metadata": {},
   "outputs": [],
   "source": [
    "def secant_methode(f):\n",
    "    delta = 1E-7\n",
    "    epsilon = 1E-6\n",
    "    x = 10000\n",
    "    x_old = x\n",
    "    fold = f(x_old)\n",
    "    fx = fold\n",
    "    slope = (f(x_old+delta)-fold)/delta\n",
    "    x = x - fold/slope\n",
    "    fx = f(x)\n",
    "    while np.fabs(fx)> epsilon:\n",
    "        slope = (fx-fold)/(x-x_old)\n",
    "        fold = fx\n",
    "        x_old = x\n",
    "        fx = f(x)\n",
    "    return x\n"
   ]
  },
  {
   "cell_type": "code",
   "execution_count": 4,
   "metadata": {},
   "outputs": [],
   "source": [
    "def Ridder(f):\n",
    "    a = 1E3\n",
    "    b = 1E6\n",
    "    epsilon = 1E-6\n",
    "    fa =f(a)\n",
    "    fb = f(b)\n",
    "    loop = 0\n",
    "    residual = 1\n",
    "    while np.fabs(residual)>epsilon or loop<10:\n",
    "        c = (a+b)/2\n",
    "        d = 0\n",
    "        fc = f(c)\n",
    "        if fa - fb > 0:\n",
    "            d = c + (c-a) * fc / np.sqrt(fc**2 - fa*fb)\n",
    "        else:\n",
    "            d = c - (c-a) * fc / np.sqrt(fc**2 - fa*fb)\n",
    "        fd = f(d)\n",
    "        if fa*fd < 0:\n",
    "            b = d\n",
    "            fb = fd\n",
    "        elif fb*fd < 0:\n",
    "            a = d\n",
    "            fa =fd\n",
    "        residual = fd\n",
    "        loop += 1\n",
    "    return d"
   ]
  },
  {
   "cell_type": "code",
   "execution_count": 5,
   "metadata": {},
   "outputs": [],
   "source": [
    "def inexact_newton(f):\n",
    "    loop = 0\n",
    "    x = 10E2\n",
    "    fx = f(x)\n",
    "    epsilon = 1.0E-6\n",
    "    delta = 1.0E-7\n",
    "    while np.fabs(fx) > epsilon or loop < 10:\n",
    "        fxdelta=f(x+delta)\n",
    "        slope = (fxdelta-fx)/delta\n",
    "        x = x - fx/slope\n",
    "        fx = f(x)\n",
    "        loop += 1\n",
    "    return x"
   ]
  },
  {
   "cell_type": "code",
   "execution_count": 6,
   "metadata": {},
   "outputs": [
    {
     "name": "stdout",
     "output_type": "stream",
     "text": [
      "Untuk densitas daya =  5 W/cm^3:\n",
      "Nilai phi = 2.1866E+12\n"
     ]
    },
    {
     "ename": "KeyboardInterrupt",
     "evalue": "",
     "output_type": "error",
     "traceback": [
      "\u001b[1;31m---------------------------------------------------------------------------\u001b[0m",
      "\u001b[1;31mKeyboardInterrupt\u001b[0m                         Traceback (most recent call last)",
      "\u001b[1;32md:\\Repository\\Komnuk\\tugas 2.ipynb Cell 10\u001b[0m line \u001b[0;36m2\n\u001b[0;32m     <a href='vscode-notebook-cell:/d%3A/Repository/Komnuk/tugas%202.ipynb#X13sZmlsZQ%3D%3D?line=21'>22</a>\u001b[0m X0 \u001b[39m=\u001b[39m x[\u001b[39m2\u001b[39m]\n\u001b[0;32m     <a href='vscode-notebook-cell:/d%3A/Repository/Komnuk/tugas%202.ipynb#X13sZmlsZQ%3D%3D?line=22'>23</a>\u001b[0m I0 \u001b[39m=\u001b[39m x[\u001b[39m1\u001b[39m]\n\u001b[1;32m---> <a href='vscode-notebook-cell:/d%3A/Repository/Komnuk/tugas%202.ipynb#X13sZmlsZQ%3D%3D?line=23'>24</a>\u001b[0m \u001b[39mprint\u001b[39m(inexact_newton(Xe)\u001b[39m/\u001b[39m\u001b[39m3600\u001b[39m)\n",
      "\u001b[1;32md:\\Repository\\Komnuk\\tugas 2.ipynb Cell 10\u001b[0m line \u001b[0;36m1\n\u001b[0;32m      <a href='vscode-notebook-cell:/d%3A/Repository/Komnuk/tugas%202.ipynb#X13sZmlsZQ%3D%3D?line=8'>9</a>\u001b[0m     slope \u001b[39m=\u001b[39m (fxdelta\u001b[39m-\u001b[39mfx)\u001b[39m/\u001b[39mdelta\n\u001b[0;32m     <a href='vscode-notebook-cell:/d%3A/Repository/Komnuk/tugas%202.ipynb#X13sZmlsZQ%3D%3D?line=9'>10</a>\u001b[0m     x \u001b[39m=\u001b[39m x \u001b[39m-\u001b[39m fx\u001b[39m/\u001b[39mslope\n\u001b[1;32m---> <a href='vscode-notebook-cell:/d%3A/Repository/Komnuk/tugas%202.ipynb#X13sZmlsZQ%3D%3D?line=10'>11</a>\u001b[0m     fx \u001b[39m=\u001b[39m f(x)\n\u001b[0;32m     <a href='vscode-notebook-cell:/d%3A/Repository/Komnuk/tugas%202.ipynb#X13sZmlsZQ%3D%3D?line=11'>12</a>\u001b[0m     loop \u001b[39m+\u001b[39m\u001b[39m=\u001b[39m \u001b[39m1\u001b[39m\n\u001b[0;32m     <a href='vscode-notebook-cell:/d%3A/Repository/Komnuk/tugas%202.ipynb#X13sZmlsZQ%3D%3D?line=12'>13</a>\u001b[0m \u001b[39mreturn\u001b[39;00m x\n",
      "\u001b[1;32md:\\Repository\\Komnuk\\tugas 2.ipynb Cell 10\u001b[0m line \u001b[0;36m2\n\u001b[0;32m      <a href='vscode-notebook-cell:/d%3A/Repository/Komnuk/tugas%202.ipynb#X13sZmlsZQ%3D%3D?line=0'>1</a>\u001b[0m \u001b[39mdef\u001b[39;00m \u001b[39mXe\u001b[39m(t):\n\u001b[1;32m----> <a href='vscode-notebook-cell:/d%3A/Repository/Komnuk/tugas%202.ipynb#X13sZmlsZQ%3D%3D?line=1'>2</a>\u001b[0m     \u001b[39mreturn\u001b[39;00m X0\u001b[39m*\u001b[39mnp\u001b[39m.\u001b[39;49mexp(\u001b[39m-\u001b[39;49mlamb_X\u001b[39m*\u001b[39;49mt) \u001b[39m+\u001b[39m lamb_I\u001b[39m/\u001b[39m(lamb_I\u001b[39m-\u001b[39mlamb_X)\u001b[39m*\u001b[39mI0\u001b[39m*\u001b[39m(np\u001b[39m.\u001b[39mexp(\u001b[39m-\u001b[39mlamb_X\u001b[39m*\u001b[39mt)\u001b[39m-\u001b[39mnp\u001b[39m.\u001b[39mexp(\u001b[39m-\u001b[39mlamb_I\u001b[39m*\u001b[39mt))\n",
      "\u001b[1;31mKeyboardInterrupt\u001b[0m: "
     ]
    }
   ],
   "source": [
    "def Xe(t):\n",
    "    return X0*np.exp(-lamb_X*t) + lamb_I/(lamb_I-lamb_X)*I0*(np.exp(-lamb_X*t)-np.exp(-lamb_I*t))\n",
    "\n",
    "    \n",
    "import numpy as np\n",
    "lamb_T = np.log(2)/19\n",
    "lamb_I = np.log(2)/(6.6*3600)\n",
    "lamb_X = np.log(2)/(9.1*3600)\n",
    "rho = [5,50,100]\n",
    "E = 200 * 1.60217E-13\n",
    "sig_f = 0.07136\n",
    "sig_a = 2.6E-18\n",
    "gam_T = 0.061\n",
    "gam_X = 0.003\n",
    "for p in rho:\n",
    "    print('Untuk densitas daya = ',p,'W/cm^3:')\n",
    "    phi = p/(sig_f*E)\n",
    "    print('Nilai phi = %.4E'%phi)\n",
    "    A = np.array([(lamb_T,0,0),(-lamb_T,lamb_I,0),(0,-lamb_I,(lamb_X+(sig_a*phi)))])\n",
    "    b = np.array([(gam_T*sig_f*phi),0,(gam_X*sig_f*phi)])\n",
    "    x = Gauss_Seidel_Solve(A,b)\n",
    "    X0 = x[2]\n",
    "    I0 = x[1]\n",
    "    print(inexact_newton(Xe)/3600)"
   ]
  }
 ],
 "metadata": {
  "kernelspec": {
   "display_name": "Python 3 (ipykernel)",
   "language": "python",
   "name": "python3"
  },
  "language_info": {
   "codemirror_mode": {
    "name": "ipython",
    "version": 3
   },
   "file_extension": ".py",
   "mimetype": "text/x-python",
   "name": "python",
   "nbconvert_exporter": "python",
   "pygments_lexer": "ipython3",
   "version": "3.11.5"
  }
 },
 "nbformat": 4,
 "nbformat_minor": 4
}
