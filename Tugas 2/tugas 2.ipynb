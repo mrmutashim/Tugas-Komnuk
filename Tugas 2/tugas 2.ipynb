{
 "cells": [
  {
   "cell_type": "markdown",
   "metadata": {},
   "source": [
    "### Soal 2\n",
    "\n",
    "Radionuklida $^{135}$Xe dihasilkan di dalam reaktor nuklir melalui dua mekanisme :\n",
    "- Produksi $^{135}$Te dari reaksi fisi yang kemudian  menjadi $^{135}$I melalui peluruhan $\\beta$ dengan waktu paro 19 detik, dan selanjutnya meluruh menjadi $^{135}$Xe melalui perluruhan $\\beta$ dengan waktu paro 6,6 jam.\n",
    "- Produksi $^{135}$Xe langsung dari reaksi fisi.\n",
    "\n",
    "Nuklida $^{135}$Xe ini penting karena ia mempunyai tampang lintang tangkapan yang sangat besar yaitu $2,6\\times 10^6$ barn. $^{135}$Xe juga bersifat radioaktif dan meluruh dengan waktu paro sebesar 9,1 jam.\n",
    "\n",
    "Untuk reaktor dengan fluks skalar rerata $\\phi$ dalam satuan neutron/cm$^2$/s, persamaan yang menyatakan produksi dari $^{135}$Xe adalah\n",
    "\n",
    "$$\n",
    "\\begin{align}\n",
    "\\frac{d}{dt} T &= \\gamma_T \\Sigma_f \\phi - \\lambda_T T \\\\\n",
    "\\frac{d}{dt} I &= \\lambda_T T - \\lambda_I I \\\\\n",
    "\\dfrac{d}{dt} X &= \\lambda_I I + \\gamma_X \\Sigma_f \\phi - \\left(\\lambda_X + \\sigma_a^X \\phi \\right)X\n",
    "\\end{align}\n",
    "$$\n",
    "\n",
    "dengan $T$, $I$ dan $X$ melambangkan densitas nuklida (dalam satuan nuklei/cm$^3$) masing-masing untuk $^{135}$Te, $^{135}$I dan $^{135}$Xe. $\\lambda_T$, $\\lambda_I$ dan $\\lambda_X$ merupakan konstanta peluruhan untuk $^{135}$Te, $^{135}$I dan $^{135}$Xe.\n",
    "\n",
    "Jika kita mempertimbangkan kondisi ajeg (*steady state*), maka $\\frac{d}{dt} = 0$, dan kita akan menjumpai persamaan untuk **konsentrasi setimbang** ketiga nuklida tersebut. Kondisi ini dijumpai ketika reaktor nuklir telah dioperasikan cukup lama. Untuk reaktor berbahan bakar $^{235}$U, *fission yield* untuk Te dan Xe adalah $\\gamma_T = 0,061$ dan $\\gamma_X = 0,003$ dan tampang lintang makroskopik fisi sebesar $\\Sigma_f = 0,07136$ cm$^{-1}$.\n",
    "\n",
    "Setelah reaktor beroperasi cukup lama, reaktor tersebut kemudian dipadamkan (*shutdown*). Konsentrasi $^{135}$Xe akan berubah terhadap waktu dan dapat dinyatakan sebagai berikut\n",
    "\n",
    "$$ X(t) = X_\\infty e^{-\\lambda_X t} + \\dfrac{\\lambda_I}{\\lambda_I - \\lambda_X} I_\\infty \\left( e^{-\\lambda_X t} - e^{-\\lambda_I t} \\right) $$\n",
    "\n",
    "dengan $t$ adalah waktu semenjak *shutdown*.\n",
    "\n",
    "Konsentrasi $^{135}$Xe  akan meningkat setelah reaktor dipadamkan, namun akan mencapai nilai maksimum pada waktu tertentu dan kemudian konsentrasinya akan berkurang.\n",
    "\n",
    "***Hitunglah*** :\n",
    "- **konsentrasi setimbang** ketiga nuklida tersebut ($T_\\infty, I_\\infty, X_\\infty$) pada densitas daya reaktor sebesar 5, 50 dan 100 W/cm$^3$, dengan besarnya energi yang dibangkitkan sebesar 200 MeV/fisi.\n",
    "- **laju serapan neutron** pada nuklida $^{135}$Xe yang dinyatakan oleh $\\sigma_a^X \\phi X$.\n",
    "- **waktu** yang diperlukan setelah reaktor dipadamkan untuk mencapai konsentrasi $^{135}$Xe  yang maksimum dan juga besarnya **konsentrasi** $^{135}$Xe pada waktu tersebut untuk densitas daya reaktor sebesar 5, 50 dan 100 W/cm$^3$."
   ]
  },
  {
   "cell_type": "markdown",
   "metadata": {},
   "source": [
    "Pada kondisi setimbang, $\\frac{d}{dt} = 0$ sehingga persamaan yang menyatakan produksi $^{135}$ Xe dapat dituliskan ke dalam matriks sebagai berikut.\n",
    "\n",
    "$$\\begin{pmatrix}\n",
    "    \\lambda_T & 0 & 0 \\\\\n",
    "    -\\lambda_T & \\lambda_I & 0 \\\\\n",
    "    0 & -\\lambda_I & \\lambda_X + \\sigma_a^X \\phi \\\\\n",
    "\\end{pmatrix}\n",
    "\\begin{pmatrix}\n",
    "    T \\\\\n",
    "    I \\\\\n",
    "    X \\\\\n",
    "\\end{pmatrix} =\n",
    "\\begin{pmatrix}\n",
    "    \\gamma_T \\Sigma_f \\phi \\\\\n",
    "    0 \\\\\n",
    "    \\gamma_X \\Sigma_f \\phi \\\\\n",
    "\\end{pmatrix}$$\n"
   ]
  },
  {
   "cell_type": "markdown",
   "metadata": {},
   "source": [
    "Untuk itu perlu dicari tahu nilai fluks ($\\phi$) yang diperoleh dari nilai densitas daya ($P$), tampang lintang makroskopik fisi ($\\Sigma_f$), dan energi per fisi ($E$)\n",
    "$$\n",
    "\\phi = \\frac{P}{\\Sigma_f E}\n",
    "$$\n",
    "\n",
    "Kemudian matriks di atas diselesaikan dengan metode Gauss-Seidel\n",
    "\n",
    "Setelah diperoleh konsentrasi setiap nuklida, maka dapat dihitung laju serapan neutron pada nuklida $^{135}Xe$  dengan menggunakan persamaan:\n",
    "$$\n",
    "{Laju Serapan Neutron} =\\sigma_a ^X \\phi X\n",
    "$$"
   ]
  },
  {
   "cell_type": "code",
   "execution_count": 78,
   "metadata": {},
   "outputs": [],
   "source": [
    "def Gauss_Seidel_Solve(A,b):\n",
    "    N = 3\n",
    "    x = np.zeros(N)\n",
    "    for i in range(N):\n",
    "        s = 0\n",
    "        for j in range(N):\n",
    "            if (i != j):\n",
    "                s += A[i,j]*x[j]\n",
    "        x[i] = (b[i] - s)/A[i,i]\n",
    "    return x"
   ]
  },
  {
   "cell_type": "code",
   "execution_count": 93,
   "metadata": {},
   "outputs": [],
   "source": [
    "def Gauss(A,b):\n",
    "    import numpy as np\n",
    "    N = 3\n",
    "    x0 = np.zeros(N)\n",
    "    x = x0.copy()\n",
    "    epsillon = 1e-6\n",
    "    converged = False\n",
    "    while not(converged):\n",
    "        x0 = x.copy()\n",
    "        for row in range(N):\n",
    "            x[row]=b[row]\n",
    "            for column in range(N):\n",
    "                if column != row:\n",
    "                    x[row] -= A[row,column]*x[column]\n",
    "            x[row] /= A[row,row]\n",
    "        relative_change = np.linalg.norm(x-x0)/np.linalg.norm(x)\n",
    "        if relative_change < epsillon:\n",
    "            converged = True\n",
    "    return x"
   ]
  },
  {
   "cell_type": "code",
   "execution_count": 95,
   "metadata": {},
   "outputs": [
    {
     "name": "stdout",
     "output_type": "stream",
     "text": [
      "Untuk densitas daya =  5 W/cm^3:\n",
      "Nilai phi = 2.1866E+12\n",
      "Telluriun-135 = 2.6091E+11 nuklida/cm3\n",
      "Iodin-135     = 3.2627E+14 nuklida/cm3\n",
      "Xenon-135     = 3.7202E+14 nuklida/cm3\n",
      "Laju Serapan Neutron = 2.1151E+09 \n",
      "\n",
      "Untuk densitas daya =  50 W/cm^3:\n",
      "Nilai phi = 2.1866E+13\n",
      "Telluriun-135 = 2.6091E+12 nuklida/cm3\n",
      "Iodin-135     = 3.2627E+15 nuklida/cm3\n",
      "Xenon-135     = 1.2801E+15 nuklida/cm3\n",
      "Laju Serapan Neutron = 7.2779E+10 \n",
      "\n",
      "Untuk densitas daya =  100 W/cm^3:\n",
      "Nilai phi = 4.3733E+13\n",
      "Telluriun-135 = 5.2182E+12 nuklida/cm3\n",
      "Iodin-135     = 6.5255E+15 nuklida/cm3\n",
      "Xenon-135     = 1.4810E+15 nuklida/cm3\n",
      "Laju Serapan Neutron = 1.6839E+11 \n",
      "\n"
     ]
    }
   ],
   "source": [
    "import numpy as np\n",
    "lamb_T = np.log(2)/19\n",
    "lamb_I = np.log(2)/(6.6*3600)\n",
    "lamb_X = np.log(2)/(9.1*3600)\n",
    "rho = [5,50,100]\n",
    "E = 200 * 1.60217E-13\n",
    "sig_f = 0.07136\n",
    "sig_a = 2.6E-18\n",
    "gam_T = 0.061\n",
    "gam_X = 0.003\n",
    "for p in rho:\n",
    "    print('Untuk densitas daya = ',p,'W/cm^3:')\n",
    "    phi = p/(sig_f*E)\n",
    "    print('Nilai phi = %.4E'%phi)\n",
    "    A = np.array([(lamb_T,0,0),(-lamb_T,lamb_I,0),(0,-lamb_I,(lamb_X+(sig_a*phi)))])\n",
    "    b = np.array([(gam_T*sig_f*phi),0,(gam_X*sig_f*phi)])\n",
    "    x = Gauss_Seidel_Solve(A,b)\n",
    "    LSN = sig_a*phi*x[2]\n",
    "    print('Telluriun-135 = %.4E'%x[0],'nuklida/cm3')\n",
    "    print('Iodin-135     = %.4E'%x[1],'nuklida/cm3')\n",
    "    print('Xenon-135     = %.4E'%x[2],'nuklida/cm3')\n",
    "    print('Laju Serapan Neutron = %.4E'%LSN,'\\n')"
   ]
  },
  {
   "cell_type": "code",
   "execution_count": 98,
   "metadata": {},
   "outputs": [
    {
     "name": "stdout",
     "output_type": "stream",
     "text": [
      "Untuk densitas daya =  5 W/cm^3:\n",
      "Nilai phi = 2.1866E+12\n",
      "Telluriun-135 = 2.6091E+11 nuklida/cm3\n",
      "Iodin-135     = 3.2627E+14 nuklida/cm3\n",
      "Xenon-135     = 3.7202E+14 nuklida/cm3\n",
      "Laju Serapan Neutron = 2.1151E+09 \n",
      "\n",
      "Untuk densitas daya =  50 W/cm^3:\n",
      "Nilai phi = 2.1866E+13\n",
      "Telluriun-135 = 2.6091E+12 nuklida/cm3\n",
      "Iodin-135     = 3.2627E+15 nuklida/cm3\n",
      "Xenon-135     = 1.2801E+15 nuklida/cm3\n",
      "Laju Serapan Neutron = 7.2779E+10 \n",
      "\n",
      "Untuk densitas daya =  100 W/cm^3:\n",
      "Nilai phi = 4.3733E+13\n",
      "Telluriun-135 = 5.2182E+12 nuklida/cm3\n",
      "Iodin-135     = 6.5255E+15 nuklida/cm3\n",
      "Xenon-135     = 1.4810E+15 nuklida/cm3\n",
      "Laju Serapan Neutron = 1.6839E+11 \n",
      "\n"
     ]
    }
   ],
   "source": [
    "import numpy as np\n",
    "lamb_T = np.log(2)/19\n",
    "lamb_I = np.log(2)/(6.6*3600)\n",
    "lamb_X = np.log(2)/(9.1*3600)\n",
    "rho = [5,50,100]\n",
    "E = 200 * 1.60217E-13\n",
    "sig_f = 0.07136\n",
    "sig_a = 2.6E-18\n",
    "gam_T = 0.061\n",
    "gam_X = 0.003\n",
    "for p in rho:\n",
    "    print('Untuk densitas daya = ',p,'W/cm^3:')\n",
    "    phi = p/(sig_f*E)\n",
    "    print('Nilai phi = %.4E'%phi)\n",
    "    A = np.array([(lamb_T,0,0),(-lamb_T,lamb_I,0),(0,-lamb_I,(lamb_X+(sig_a*phi)))])\n",
    "    b = np.array([(gam_T*sig_f*phi),0,(gam_X*sig_f*phi)])\n",
    "    x = Gauss(A,b)\n",
    "    LSN = sig_a*phi*x[2]\n",
    "    print('Telluriun-135 = %.4E'%x[0],'nuklida/cm3')\n",
    "    print('Iodin-135     = %.4E'%x[1],'nuklida/cm3')\n",
    "    print('Xenon-135     = %.4E'%x[2],'nuklida/cm3')\n",
    "    print('Laju Serapan Neutron = %.4E'%LSN,'\\n')"
   ]
  },
  {
   "cell_type": "markdown",
   "metadata": {},
   "source": [
    "Setelah reaktor bereaksi cukup lama, reaktor kemudian dipadamkan (*shutdown*). Konsentrasi $^{135}Xe$ akan berubah terhadap waktu dan dapat dinyatakan sebagai berikut.\n",
    "$$ X(t) = X_\\infty e^{-\\lambda_X t} + \\dfrac{\\lambda_I}{\\lambda_I - \\lambda_X} I_\\infty \\left( e^{-\\lambda_X t} - e^{-\\lambda_I t} \\right) $$\n",
    "Dengan asumsi ketika reaktor dipadamkan ketiga nuklida telah mencapai kondisi setimbang, maka waktu yang digunakan untuk mencapai konsentrasi $^{135}Xe$ dan besarnya konsentrasi pada waktu tersebut dapat ditentukan sebagai berikut."
   ]
  },
  {
   "cell_type": "code",
   "execution_count": 80,
   "metadata": {},
   "outputs": [],
   "source": [
    "def secant_methode(f):\n",
    "    delta = 1E-7\n",
    "    epsilon = 1E-6\n",
    "    x = 10000\n",
    "    x_old = x\n",
    "    fold = f(x_old)\n",
    "    fx = fold\n",
    "    slope = (f(x_old+delta)-fold)/delta\n",
    "    x = x - fold/slope\n",
    "    fx = f(x)\n",
    "    while np.fabs(fx)> epsilon:\n",
    "        slope = (fx-fold)/(x-x_old)\n",
    "        fold = fx\n",
    "        x_old = x\n",
    "        fx = f(x)\n",
    "    return x\n"
   ]
  },
  {
   "cell_type": "code",
   "execution_count": 81,
   "metadata": {},
   "outputs": [],
   "source": [
    "def Ridder(f):\n",
    "    a = 0\n",
    "    b = 1E6\n",
    "    epsilon = 1E-6\n",
    "    fa =f(a)\n",
    "    fb = f(b)\n",
    "    loop = 0\n",
    "    residual = 1\n",
    "    while np.fabs(residual)>epsilon or loop<10:\n",
    "        c = (a+b)/2\n",
    "        d = 0\n",
    "        fc = f(c)\n",
    "        if fa - fb > 0:\n",
    "            d = c + (c-a) * fc / np.sqrt(fc**2 - fa*fb)\n",
    "        else:\n",
    "            d = c - (c-a) * fc / np.sqrt(fc**2 - fa*fb)\n",
    "        fd = f(d)\n",
    "        if fa*fd < 0:\n",
    "            b = d\n",
    "            fb = fd\n",
    "        elif fb*fd < 0:\n",
    "            a = d\n",
    "            fa =fd\n",
    "        residual = fd\n",
    "        loop += 1\n",
    "    return d"
   ]
  },
  {
   "cell_type": "code",
   "execution_count": 82,
   "metadata": {},
   "outputs": [],
   "source": [
    "def inexact_newton(f):\n",
    "    loop = 0\n",
    "    x = 0\n",
    "    fx = f(x)\n",
    "    epsilon = 1.0E-6\n",
    "    delta = 1.0E-7\n",
    "    while np.fabs(fx) > epsilon or loop < 10:\n",
    "        fxdelta=f(x+delta)\n",
    "        slope = (fxdelta-fx)/delta\n",
    "        x = x - fx/slope\n",
    "        fx = f(x)\n",
    "        loop += 1\n",
    "    return x"
   ]
  },
  {
   "cell_type": "code",
   "execution_count": 83,
   "metadata": {},
   "outputs": [],
   "source": [
    "def Newton(f,f_derivative):\n",
    "    import numpy as np\n",
    "    x = 0\n",
    "    epsilon = 1E-3\n",
    "    fx = f(x)\n",
    "    loop = 0\n",
    "    while np.fabs(fx) > epsilon or loop < 10:\n",
    "        fderx = f_derivative(x)\n",
    "        x = x - fx/fderx\n",
    "        fx = f(x)\n",
    "        loop += 1\n",
    "    return x"
   ]
  },
  {
   "cell_type": "code",
   "execution_count": 84,
   "metadata": {},
   "outputs": [
    {
     "name": "stdout",
     "output_type": "stream",
     "text": [
      "4.9951171875\n"
     ]
    }
   ],
   "source": [
    "def mus(x):\n",
    "    return x**2-10*x+25\n",
    "\n",
    "def mus_der(x):\n",
    "    return 2*x-10\n",
    "print(Newton(mus,mus_der))"
   ]
  },
  {
   "cell_type": "code",
   "execution_count": 85,
   "metadata": {},
   "outputs": [],
   "source": [
    "import numpy as np\n",
    "def dx(fung,x):\n",
    "    return abs(0-fung(x))\n",
    "\n",
    "def newtonraphson(fung, dfung):\n",
    "    i = 0\n",
    "    x0 = 0\n",
    "    epsilon = 1E-3\n",
    "    delta = dx (fung,x0)\n",
    "    while delta > epsilon:\n",
    "        x0 = x0 - fung(x0)/dfung(x0)\n",
    "        delta = dx(fung,x0)\n",
    "        i += 1\n",
    "    return x0"
   ]
  },
  {
   "cell_type": "code",
   "execution_count": 87,
   "metadata": {},
   "outputs": [
    {
     "name": "stdout",
     "output_type": "stream",
     "text": [
      "Untuk densitas daya =  5 W/cm^3:\n",
      "Nilai phi = 2.1866E+12\n",
      "1.6879759286995257 jam\n",
      "Untuk densitas daya =  50 W/cm^3:\n",
      "Nilai phi = 2.1866E+13\n",
      "7.584809385776176 jam\n",
      "Untuk densitas daya =  100 W/cm^3:\n",
      "Nilai phi = 4.3733E+13\n",
      "9.036433740565945 jam\n"
     ]
    }
   ],
   "source": [
    "def Xe(t):\n",
    "    return -lamb_X*X0*np.exp(-lamb_X*t) + lamb_I/(lamb_I-lamb_X)*I0*(-lamb_X*np.exp(-lamb_X*t)+lamb_I*np.exp(-lamb_I*t))\n",
    "\n",
    "def Xe_derivative(t):\n",
    "    return -lamb_X*X0*(-lamb_X*np.exp(-lamb_X*t)) + lamb_I/(lamb_I-lamb_X)*I0*(-lamb_X*(-lamb_X*np.exp(-lamb_X*t)) + lamb_I*(-lamb_I*np.exp(-lamb_I*t)))\n",
    "import numpy as np\n",
    "lamb_T = np.log(2)/19\n",
    "lamb_I = np.log(2)/(6.6*3600)\n",
    "lamb_X = np.log(2)/(9.1*3600)\n",
    "rho = [5,50,100]\n",
    "E = 200 * 1.60217E-13\n",
    "sig_f = 0.07136\n",
    "sig_a = 2.6E-18\n",
    "gam_T = 0.061\n",
    "gam_X = 0.003\n",
    "for p in rho:\n",
    "    print('Untuk densitas daya = ',p,'W/cm^3:')\n",
    "    phi = p/(sig_f*E)\n",
    "    print('Nilai phi = %.4E'%phi)\n",
    "    A = np.array([(lamb_T,0,0),(-lamb_T,lamb_I,0),(0,-lamb_I,(lamb_X+(sig_a*phi)))])\n",
    "    b = np.array([(gam_T*sig_f*phi),0,(gam_X*sig_f*phi)])\n",
    "    x = Gauss_Seidel_Solve(A,b)\n",
    "    X0 = x[2]\n",
    "    I0 = x[1]\n",
    "    \n",
    "\n",
    "    print(Newton(Xe,Xe_derivative)/3600,'jam')"
   ]
  }
 ],
 "metadata": {
  "kernelspec": {
   "display_name": "Python 3 (ipykernel)",
   "language": "python",
   "name": "python3"
  },
  "language_info": {
   "codemirror_mode": {
    "name": "ipython",
    "version": 3
   },
   "file_extension": ".py",
   "mimetype": "text/x-python",
   "name": "python",
   "nbconvert_exporter": "python",
   "pygments_lexer": "ipython3",
   "version": "3.11.5"
  }
 },
 "nbformat": 4,
 "nbformat_minor": 4
}
